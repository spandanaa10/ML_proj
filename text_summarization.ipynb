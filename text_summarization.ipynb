{
 "cells": [
  {
   "cell_type": "code",
   "execution_count": 2,
   "metadata": {},
   "outputs": [
    {
     "name": "stdout",
     "output_type": "stream",
     "text": [
      "Requirement already satisfied: transformers in c:\\users\\thinking1\\anaconda3\\lib\\site-packages (4.51.3)\n",
      "Requirement already satisfied: filelock in c:\\users\\thinking1\\anaconda3\\lib\\site-packages (from transformers) (3.13.1)\n",
      "Requirement already satisfied: huggingface-hub<1.0,>=0.30.0 in c:\\users\\thinking1\\anaconda3\\lib\\site-packages (from transformers) (0.30.1)\n",
      "Requirement already satisfied: numpy>=1.17 in c:\\users\\thinking1\\anaconda3\\lib\\site-packages (from transformers) (1.26.4)\n",
      "Requirement already satisfied: packaging>=20.0 in c:\\users\\thinking1\\anaconda3\\lib\\site-packages (from transformers) (23.1)\n",
      "Requirement already satisfied: pyyaml>=5.1 in c:\\users\\thinking1\\anaconda3\\lib\\site-packages (from transformers) (6.0.1)\n",
      "Requirement already satisfied: regex!=2019.12.17 in c:\\users\\thinking1\\anaconda3\\lib\\site-packages (from transformers) (2023.10.3)\n",
      "Requirement already satisfied: requests in c:\\users\\thinking1\\anaconda3\\lib\\site-packages (from transformers) (2.31.0)\n",
      "Requirement already satisfied: tokenizers<0.22,>=0.21 in c:\\users\\thinking1\\anaconda3\\lib\\site-packages (from transformers) (0.21.1)\n",
      "Requirement already satisfied: safetensors>=0.4.3 in c:\\users\\thinking1\\anaconda3\\lib\\site-packages (from transformers) (0.5.3)\n",
      "Requirement already satisfied: tqdm>=4.27 in c:\\users\\thinking1\\anaconda3\\lib\\site-packages (from transformers) (4.65.0)\n",
      "Requirement already satisfied: fsspec>=2023.5.0 in c:\\users\\thinking1\\anaconda3\\lib\\site-packages (from huggingface-hub<1.0,>=0.30.0->transformers) (2023.10.0)\n",
      "Requirement already satisfied: typing-extensions>=3.7.4.3 in c:\\users\\thinking1\\anaconda3\\lib\\site-packages (from huggingface-hub<1.0,>=0.30.0->transformers) (4.13.1)\n",
      "Requirement already satisfied: colorama in c:\\users\\thinking1\\anaconda3\\lib\\site-packages (from tqdm>=4.27->transformers) (0.4.6)\n",
      "Requirement already satisfied: charset-normalizer<4,>=2 in c:\\users\\thinking1\\anaconda3\\lib\\site-packages (from requests->transformers) (2.0.4)\n",
      "Requirement already satisfied: idna<4,>=2.5 in c:\\users\\thinking1\\anaconda3\\lib\\site-packages (from requests->transformers) (3.4)\n",
      "Requirement already satisfied: urllib3<3,>=1.21.1 in c:\\users\\thinking1\\anaconda3\\lib\\site-packages (from requests->transformers) (2.0.7)\n",
      "Requirement already satisfied: certifi>=2017.4.17 in c:\\users\\thinking1\\anaconda3\\lib\\site-packages (from requests->transformers) (2024.2.2)\n",
      "Requirement already satisfied: nltk in c:\\users\\thinking1\\anaconda3\\lib\\site-packages (3.8.1)\n",
      "Requirement already satisfied: click in c:\\users\\thinking1\\anaconda3\\lib\\site-packages (from nltk) (8.1.7)\n",
      "Requirement already satisfied: joblib in c:\\users\\thinking1\\anaconda3\\lib\\site-packages (from nltk) (1.2.0)\n",
      "Requirement already satisfied: regex>=2021.8.3 in c:\\users\\thinking1\\anaconda3\\lib\\site-packages (from nltk) (2023.10.3)\n",
      "Requirement already satisfied: tqdm in c:\\users\\thinking1\\anaconda3\\lib\\site-packages (from nltk) (4.65.0)\n",
      "Requirement already satisfied: colorama in c:\\users\\thinking1\\anaconda3\\lib\\site-packages (from click->nltk) (0.4.6)\n",
      "Requirement already satisfied: spacy in c:\\users\\thinking1\\anaconda3\\lib\\site-packages (3.8.5)\n",
      "Requirement already satisfied: spacy-legacy<3.1.0,>=3.0.11 in c:\\users\\thinking1\\anaconda3\\lib\\site-packages (from spacy) (3.0.12)\n",
      "Requirement already satisfied: spacy-loggers<2.0.0,>=1.0.0 in c:\\users\\thinking1\\anaconda3\\lib\\site-packages (from spacy) (1.0.5)\n",
      "Requirement already satisfied: murmurhash<1.1.0,>=0.28.0 in c:\\users\\thinking1\\anaconda3\\lib\\site-packages (from spacy) (1.0.12)\n",
      "Requirement already satisfied: cymem<2.1.0,>=2.0.2 in c:\\users\\thinking1\\anaconda3\\lib\\site-packages (from spacy) (2.0.11)\n",
      "Requirement already satisfied: preshed<3.1.0,>=3.0.2 in c:\\users\\thinking1\\anaconda3\\lib\\site-packages (from spacy) (3.0.9)\n",
      "Requirement already satisfied: thinc<8.4.0,>=8.3.4 in c:\\users\\thinking1\\anaconda3\\lib\\site-packages (from spacy) (8.3.6)\n",
      "Requirement already satisfied: wasabi<1.2.0,>=0.9.1 in c:\\users\\thinking1\\anaconda3\\lib\\site-packages (from spacy) (1.1.3)\n",
      "Requirement already satisfied: srsly<3.0.0,>=2.4.3 in c:\\users\\thinking1\\anaconda3\\lib\\site-packages (from spacy) (2.5.1)\n",
      "Requirement already satisfied: catalogue<2.1.0,>=2.0.6 in c:\\users\\thinking1\\anaconda3\\lib\\site-packages (from spacy) (2.0.10)\n",
      "Requirement already satisfied: weasel<0.5.0,>=0.1.0 in c:\\users\\thinking1\\anaconda3\\lib\\site-packages (from spacy) (0.4.1)\n",
      "Requirement already satisfied: typer<1.0.0,>=0.3.0 in c:\\users\\thinking1\\anaconda3\\lib\\site-packages (from spacy) (0.15.2)\n",
      "Requirement already satisfied: tqdm<5.0.0,>=4.38.0 in c:\\users\\thinking1\\anaconda3\\lib\\site-packages (from spacy) (4.65.0)\n",
      "Requirement already satisfied: numpy>=1.19.0 in c:\\users\\thinking1\\anaconda3\\lib\\site-packages (from spacy) (1.26.4)\n",
      "Requirement already satisfied: requests<3.0.0,>=2.13.0 in c:\\users\\thinking1\\anaconda3\\lib\\site-packages (from spacy) (2.31.0)\n",
      "Requirement already satisfied: pydantic!=1.8,!=1.8.1,<3.0.0,>=1.7.4 in c:\\users\\thinking1\\anaconda3\\lib\\site-packages (from spacy) (2.11.3)\n",
      "Requirement already satisfied: jinja2 in c:\\users\\thinking1\\anaconda3\\lib\\site-packages (from spacy) (3.1.3)\n",
      "Requirement already satisfied: setuptools in c:\\users\\thinking1\\anaconda3\\lib\\site-packages (from spacy) (68.2.2)\n",
      "Requirement already satisfied: packaging>=20.0 in c:\\users\\thinking1\\anaconda3\\lib\\site-packages (from spacy) (23.1)\n",
      "Requirement already satisfied: langcodes<4.0.0,>=3.2.0 in c:\\users\\thinking1\\anaconda3\\lib\\site-packages (from spacy) (3.5.0)\n",
      "Requirement already satisfied: language-data>=1.2 in c:\\users\\thinking1\\anaconda3\\lib\\site-packages (from langcodes<4.0.0,>=3.2.0->spacy) (1.3.0)\n",
      "Requirement already satisfied: annotated-types>=0.6.0 in c:\\users\\thinking1\\anaconda3\\lib\\site-packages (from pydantic!=1.8,!=1.8.1,<3.0.0,>=1.7.4->spacy) (0.7.0)\n",
      "Requirement already satisfied: pydantic-core==2.33.1 in c:\\users\\thinking1\\anaconda3\\lib\\site-packages (from pydantic!=1.8,!=1.8.1,<3.0.0,>=1.7.4->spacy) (2.33.1)\n",
      "Requirement already satisfied: typing-extensions>=4.12.2 in c:\\users\\thinking1\\anaconda3\\lib\\site-packages (from pydantic!=1.8,!=1.8.1,<3.0.0,>=1.7.4->spacy) (4.13.1)\n",
      "Requirement already satisfied: typing-inspection>=0.4.0 in c:\\users\\thinking1\\anaconda3\\lib\\site-packages (from pydantic!=1.8,!=1.8.1,<3.0.0,>=1.7.4->spacy) (0.4.0)\n",
      "Requirement already satisfied: charset-normalizer<4,>=2 in c:\\users\\thinking1\\anaconda3\\lib\\site-packages (from requests<3.0.0,>=2.13.0->spacy) (2.0.4)\n",
      "Requirement already satisfied: idna<4,>=2.5 in c:\\users\\thinking1\\anaconda3\\lib\\site-packages (from requests<3.0.0,>=2.13.0->spacy) (3.4)\n",
      "Requirement already satisfied: urllib3<3,>=1.21.1 in c:\\users\\thinking1\\anaconda3\\lib\\site-packages (from requests<3.0.0,>=2.13.0->spacy) (2.0.7)\n",
      "Requirement already satisfied: certifi>=2017.4.17 in c:\\users\\thinking1\\anaconda3\\lib\\site-packages (from requests<3.0.0,>=2.13.0->spacy) (2024.2.2)\n",
      "Requirement already satisfied: blis<1.4.0,>=1.3.0 in c:\\users\\thinking1\\anaconda3\\lib\\site-packages (from thinc<8.4.0,>=8.3.4->spacy) (1.3.0)\n",
      "Requirement already satisfied: confection<1.0.0,>=0.0.1 in c:\\users\\thinking1\\anaconda3\\lib\\site-packages (from thinc<8.4.0,>=8.3.4->spacy) (0.1.5)\n",
      "Collecting numpy>=1.19.0 (from spacy)\n",
      "  Using cached numpy-2.2.4-cp311-cp311-win_amd64.whl.metadata (60 kB)\n",
      "Requirement already satisfied: colorama in c:\\users\\thinking1\\anaconda3\\lib\\site-packages (from tqdm<5.0.0,>=4.38.0->spacy) (0.4.6)\n",
      "Requirement already satisfied: click>=8.0.0 in c:\\users\\thinking1\\anaconda3\\lib\\site-packages (from typer<1.0.0,>=0.3.0->spacy) (8.1.7)\n",
      "Requirement already satisfied: shellingham>=1.3.0 in c:\\users\\thinking1\\anaconda3\\lib\\site-packages (from typer<1.0.0,>=0.3.0->spacy) (1.5.4)\n",
      "Requirement already satisfied: rich>=10.11.0 in c:\\users\\thinking1\\anaconda3\\lib\\site-packages (from typer<1.0.0,>=0.3.0->spacy) (13.3.5)\n",
      "Requirement already satisfied: cloudpathlib<1.0.0,>=0.7.0 in c:\\users\\thinking1\\anaconda3\\lib\\site-packages (from weasel<0.5.0,>=0.1.0->spacy) (0.21.0)\n",
      "Requirement already satisfied: smart-open<8.0.0,>=5.2.1 in c:\\users\\thinking1\\anaconda3\\lib\\site-packages (from weasel<0.5.0,>=0.1.0->spacy) (5.2.1)\n",
      "Requirement already satisfied: MarkupSafe>=2.0 in c:\\users\\thinking1\\anaconda3\\lib\\site-packages (from jinja2->spacy) (2.1.3)\n",
      "Requirement already satisfied: marisa-trie>=1.1.0 in c:\\users\\thinking1\\anaconda3\\lib\\site-packages (from language-data>=1.2->langcodes<4.0.0,>=3.2.0->spacy) (1.2.1)\n",
      "Requirement already satisfied: markdown-it-py<3.0.0,>=2.2.0 in c:\\users\\thinking1\\anaconda3\\lib\\site-packages (from rich>=10.11.0->typer<1.0.0,>=0.3.0->spacy) (2.2.0)\n",
      "Requirement already satisfied: pygments<3.0.0,>=2.13.0 in c:\\users\\thinking1\\anaconda3\\lib\\site-packages (from rich>=10.11.0->typer<1.0.0,>=0.3.0->spacy) (2.15.1)\n",
      "Requirement already satisfied: mdurl~=0.1 in c:\\users\\thinking1\\anaconda3\\lib\\site-packages (from markdown-it-py<3.0.0,>=2.2.0->rich>=10.11.0->typer<1.0.0,>=0.3.0->spacy) (0.1.0)\n",
      "Using cached numpy-2.2.4-cp311-cp311-win_amd64.whl (12.9 MB)\n",
      "Installing collected packages: numpy\n",
      "  Attempting uninstall: numpy\n",
      "    Found existing installation: numpy 1.26.4\n",
      "    Uninstalling numpy-1.26.4:\n",
      "      Successfully uninstalled numpy-1.26.4\n",
      "Successfully installed numpy-2.2.4\n"
     ]
    },
    {
     "name": "stderr",
     "output_type": "stream",
     "text": [
      "ERROR: pip's dependency resolver does not currently take into account all the packages that are installed. This behaviour is the source of the following dependency conflicts.\n",
      "gensim 4.3.0 requires FuzzyTM>=0.4.0, which is not installed.\n",
      "astropy 5.3.4 requires numpy<2,>=1.21, but you have numpy 2.2.4 which is incompatible.\n",
      "contourpy 1.2.0 requires numpy<2.0,>=1.20, but you have numpy 2.2.4 which is incompatible.\n",
      "matplotlib 3.8.0 requires numpy<2,>=1.21, but you have numpy 2.2.4 which is incompatible.\n",
      "numba 0.59.0 requires numpy<1.27,>=1.22, but you have numpy 2.2.4 which is incompatible.\n",
      "pandas 2.1.4 requires numpy<2,>=1.23.2; python_version == \"3.11\", but you have numpy 2.2.4 which is incompatible.\n",
      "pywavelets 1.5.0 requires numpy<2.0,>=1.22.4, but you have numpy 2.2.4 which is incompatible.\n",
      "scipy 1.11.4 requires numpy<1.28.0,>=1.21.6, but you have numpy 2.2.4 which is incompatible.\n",
      "streamlit 1.30.0 requires numpy<2,>=1.19.3, but you have numpy 2.2.4 which is incompatible.\n"
     ]
    },
    {
     "name": "stdout",
     "output_type": "stream",
     "text": [
      "Requirement already satisfied: rouge-score in c:\\users\\thinking1\\anaconda3\\lib\\site-packages (0.1.2)\n",
      "Requirement already satisfied: absl-py in c:\\users\\thinking1\\anaconda3\\lib\\site-packages (from rouge-score) (2.2.2)\n",
      "Requirement already satisfied: nltk in c:\\users\\thinking1\\anaconda3\\lib\\site-packages (from rouge-score) (3.8.1)\n",
      "Requirement already satisfied: numpy in c:\\users\\thinking1\\anaconda3\\lib\\site-packages (from rouge-score) (2.2.4)\n",
      "Requirement already satisfied: six>=1.14.0 in c:\\users\\thinking1\\anaconda3\\lib\\site-packages (from rouge-score) (1.16.0)\n",
      "Requirement already satisfied: click in c:\\users\\thinking1\\anaconda3\\lib\\site-packages (from nltk->rouge-score) (8.1.7)\n",
      "Requirement already satisfied: joblib in c:\\users\\thinking1\\anaconda3\\lib\\site-packages (from nltk->rouge-score) (1.2.0)\n",
      "Requirement already satisfied: regex>=2021.8.3 in c:\\users\\thinking1\\anaconda3\\lib\\site-packages (from nltk->rouge-score) (2023.10.3)\n",
      "Requirement already satisfied: tqdm in c:\\users\\thinking1\\anaconda3\\lib\\site-packages (from nltk->rouge-score) (4.65.0)\n",
      "Requirement already satisfied: colorama in c:\\users\\thinking1\\anaconda3\\lib\\site-packages (from click->nltk->rouge-score) (0.4.6)\n",
      "Requirement already satisfied: scikit-learn in c:\\users\\thinking1\\anaconda3\\lib\\site-packages (1.2.2)\n",
      "Requirement already satisfied: numpy>=1.17.3 in c:\\users\\thinking1\\anaconda3\\lib\\site-packages (from scikit-learn) (2.2.4)\n",
      "Requirement already satisfied: scipy>=1.3.2 in c:\\users\\thinking1\\anaconda3\\lib\\site-packages (from scikit-learn) (1.11.4)\n",
      "Requirement already satisfied: joblib>=1.1.1 in c:\\users\\thinking1\\anaconda3\\lib\\site-packages (from scikit-learn) (1.2.0)\n",
      "Requirement already satisfied: threadpoolctl>=2.0.0 in c:\\users\\thinking1\\anaconda3\\lib\\site-packages (from scikit-learn) (2.2.0)\n",
      "Collecting numpy>=1.17.3 (from scikit-learn)\n",
      "  Using cached numpy-1.26.4-cp311-cp311-win_amd64.whl.metadata (61 kB)\n",
      "Using cached numpy-1.26.4-cp311-cp311-win_amd64.whl (15.8 MB)\n",
      "Installing collected packages: numpy\n",
      "  Attempting uninstall: numpy\n",
      "    Found existing installation: numpy 2.2.4\n",
      "    Uninstalling numpy-2.2.4:\n",
      "      Successfully uninstalled numpy-2.2.4\n",
      "Successfully installed numpy-1.26.4\n"
     ]
    },
    {
     "name": "stderr",
     "output_type": "stream",
     "text": [
      "ERROR: pip's dependency resolver does not currently take into account all the packages that are installed. This behaviour is the source of the following dependency conflicts.\n",
      "gensim 4.3.0 requires FuzzyTM>=0.4.0, which is not installed.\n",
      "thinc 8.3.6 requires numpy<3.0.0,>=2.0.0, but you have numpy 1.26.4 which is incompatible.\n",
      "<frozen runpy>:128: RuntimeWarning: 'nltk.downloader' found in sys.modules after import of package 'nltk', but prior to execution of 'nltk.downloader'; this may result in unpredictable behaviour\n",
      "[nltk_data] Downloading package punkt to\n",
      "[nltk_data]     C:\\Users\\Thinking1\\AppData\\Roaming\\nltk_data...\n",
      "[nltk_data]   Package punkt is already up-to-date!\n",
      "[nltk_data] Downloading package stopwords to\n",
      "[nltk_data]     C:\\Users\\Thinking1\\AppData\\Roaming\\nltk_data...\n",
      "[nltk_data]   Package stopwords is already up-to-date!\n"
     ]
    },
    {
     "name": "stdout",
     "output_type": "stream",
     "text": [
      "Collecting en-core-web-sm==3.8.0\n",
      "  Downloading https://github.com/explosion/spacy-models/releases/download/en_core_web_sm-3.8.0/en_core_web_sm-3.8.0-py3-none-any.whl (12.8 MB)\n",
      "     ---------------------------------------- 0.0/12.8 MB ? eta -:--:--\n",
      "     ---------------------------------------- 0.0/12.8 MB ? eta -:--:--\n",
      "     --------------------------------------- 0.0/12.8 MB 162.5 kB/s eta 0:01:19\n",
      "     --------------------------------------- 0.0/12.8 MB 186.2 kB/s eta 0:01:09\n",
      "     --------------------------------------- 0.0/12.8 MB 217.9 kB/s eta 0:00:59\n",
      "     --------------------------------------- 0.1/12.8 MB 403.5 kB/s eta 0:00:32\n",
      "      -------------------------------------- 0.3/12.8 MB 983.0 kB/s eta 0:00:13\n",
      "     - -------------------------------------- 0.4/12.8 MB 1.4 MB/s eta 0:00:09\n",
      "     -- ------------------------------------- 0.6/12.8 MB 1.8 MB/s eta 0:00:07\n",
      "     -- ------------------------------------- 0.9/12.8 MB 2.3 MB/s eta 0:00:06\n",
      "     --- ------------------------------------ 1.3/12.8 MB 2.9 MB/s eta 0:00:05\n",
      "     ----- ---------------------------------- 1.6/12.8 MB 3.4 MB/s eta 0:00:04\n",
      "     ------ --------------------------------- 2.0/12.8 MB 3.7 MB/s eta 0:00:03\n",
      "     ------- -------------------------------- 2.3/12.8 MB 4.0 MB/s eta 0:00:03\n",
      "     -------- ------------------------------- 2.6/12.8 MB 4.2 MB/s eta 0:00:03\n",
      "     --------- ------------------------------ 3.0/12.8 MB 4.5 MB/s eta 0:00:03\n",
      "     ---------- ----------------------------- 3.5/12.8 MB 4.8 MB/s eta 0:00:02\n",
      "     ------------ --------------------------- 4.0/12.8 MB 5.2 MB/s eta 0:00:02\n",
      "     -------------- ------------------------- 4.5/12.8 MB 5.5 MB/s eta 0:00:02\n",
      "     --------------- ------------------------ 5.0/12.8 MB 5.8 MB/s eta 0:00:02\n",
      "     ---------------- ----------------------- 5.3/12.8 MB 5.9 MB/s eta 0:00:02\n",
      "     ----------------- ---------------------- 5.7/12.8 MB 6.2 MB/s eta 0:00:02\n",
      "     ------------------- -------------------- 6.3/12.8 MB 6.3 MB/s eta 0:00:02\n",
      "     --------------------- ------------------ 6.9/12.8 MB 6.6 MB/s eta 0:00:01\n",
      "     ----------------------- ---------------- 7.5/12.8 MB 7.0 MB/s eta 0:00:01\n",
      "     ------------------------- -------------- 8.3/12.8 MB 7.3 MB/s eta 0:00:01\n",
      "     ---------------------------- ----------- 9.0/12.8 MB 7.7 MB/s eta 0:00:01\n",
      "     ------------------------------ --------- 9.7/12.8 MB 8.0 MB/s eta 0:00:01\n",
      "     ------------------------------- -------- 10.2/12.8 MB 8.1 MB/s eta 0:00:01\n",
      "     -------------------------------- ------- 10.5/12.8 MB 9.8 MB/s eta 0:00:01\n",
      "     --------------------------------- ----- 11.1/12.8 MB 10.6 MB/s eta 0:00:01\n",
      "     ------------------------------------ -- 11.9/12.8 MB 11.3 MB/s eta 0:00:01\n",
      "     ------------------------------------- - 12.2/12.8 MB 11.5 MB/s eta 0:00:01\n",
      "     --------------------------------------  12.8/12.8 MB 11.5 MB/s eta 0:00:01\n",
      "     --------------------------------------- 12.8/12.8 MB 10.7 MB/s eta 0:00:00\n",
      "\u001b[38;5;2m✔ Download and installation successful\u001b[0m\n",
      "You can now load the package via spacy.load('en_core_web_sm')\n"
     ]
    }
   ],
   "source": [
    "!pip install transformers\n",
    "!pip install nltk\n",
    "!pip install spacy\n",
    "!pip install rouge-score\n",
    "!pip install scikit-learn\n",
    "!python -m nltk.downloader punkt stopwords\n",
    "!python -m spacy download en_core_web_sm\n"
   ]
  },
  {
   "cell_type": "code",
   "execution_count": 3,
   "metadata": {},
   "outputs": [],
   "source": [
    "import re\n",
    "import nltk\n",
    "import spacy\n",
    "import string\n",
    "import numpy as np\n",
    "import pandas as pd\n",
    "import matplotlib.pyplot as plt\n",
    "import seaborn as sns\n",
    "\n",
    "from sklearn.feature_extraction.text import TfidfVectorizer\n",
    "from sklearn.model_selection import train_test_split\n",
    "from sklearn.metrics import classification_report\n",
    "\n",
    "from transformers import pipeline, BartForConditionalGeneration, BartTokenizer\n",
    "from transformers import T5Tokenizer, T5ForConditionalGeneration\n",
    "from transformers import PegasusTokenizer, PegasusForConditionalGeneration\n",
    "\n",
    "from rouge_score import rouge_scorer\n"
   ]
  },
  {
   "cell_type": "code",
   "execution_count": 4,
   "metadata": {},
   "outputs": [
    {
     "name": "stderr",
     "output_type": "stream",
     "text": [
      "[nltk_data] Downloading package stopwords to\n",
      "[nltk_data]     C:\\Users\\Thinking1\\AppData\\Roaming\\nltk_data...\n",
      "[nltk_data]   Package stopwords is already up-to-date!\n"
     ]
    }
   ],
   "source": [
    "nltk.download('stopwords')\n",
    "stopwords = set(nltk.corpus.stopwords.words('english'))\n",
    "nlp = spacy.load(\"en_core_web_sm\")\n",
    "\n",
    "def clean_text(text):\n",
    "    # Lowercase\n",
    "    text = text.lower()\n",
    "    # Remove special characters and digits\n",
    "    text = re.sub(r'[^a-zA-Z\\s]', '', text)\n",
    "    # Remove extra whitespace\n",
    "    text = re.sub(r'\\s+', ' ', text).strip()\n",
    "    return text\n",
    "\n",
    "def preprocess_text(text):\n",
    "    # Clean text and remove stopwords\n",
    "    cleaned = clean_text(text)\n",
    "    tokens = nltk.word_tokenize(cleaned)\n",
    "    filtered = [word for word in tokens if word not in stopwords]\n",
    "    return ' '.join(filtered)\n"
   ]
  },
  {
   "cell_type": "code",
   "execution_count": 5,
   "metadata": {},
   "outputs": [],
   "source": [
    "def extract_named_entities(text):\n",
    "    doc = nlp(text)\n",
    "    return [(ent.text, ent.label_) for ent in doc.ents]\n"
   ]
  },
  {
   "cell_type": "code",
   "execution_count": 6,
   "metadata": {},
   "outputs": [],
   "source": [
    "def tfidf_summary(text, top_n=3):\n",
    "    # Vectorize the text into sentences\n",
    "    sentences = nltk.sent_tokenize(text)\n",
    "    vectorizer = TfidfVectorizer()\n",
    "    tfidf_matrix = vectorizer.fit_transform(sentences)\n",
    "    sentence_scores = np.sum(tfidf_matrix.toarray(), axis=1)\n",
    "    top_indices = sentence_scores.argsort()[-top_n:][::-1]\n",
    "    return ' '.join([sentences[i] for i in top_indices])\n"
   ]
  },
  {
   "cell_type": "code",
   "execution_count": 7,
   "metadata": {},
   "outputs": [
    {
     "name": "stdout",
     "output_type": "stream",
     "text": [
      "Requirement already satisfied: transformers in c:\\users\\thinking1\\anaconda3\\lib\\site-packages (4.51.3)\n",
      "Requirement already satisfied: torch in c:\\users\\thinking1\\anaconda3\\lib\\site-packages (2.6.0)\n",
      "Requirement already satisfied: filelock in c:\\users\\thinking1\\anaconda3\\lib\\site-packages (from transformers) (3.13.1)\n",
      "Requirement already satisfied: huggingface-hub<1.0,>=0.30.0 in c:\\users\\thinking1\\anaconda3\\lib\\site-packages (from transformers) (0.30.1)\n",
      "Requirement already satisfied: numpy>=1.17 in c:\\users\\thinking1\\anaconda3\\lib\\site-packages (from transformers) (1.26.4)\n",
      "Requirement already satisfied: packaging>=20.0 in c:\\users\\thinking1\\anaconda3\\lib\\site-packages (from transformers) (23.1)\n",
      "Requirement already satisfied: pyyaml>=5.1 in c:\\users\\thinking1\\anaconda3\\lib\\site-packages (from transformers) (6.0.1)\n",
      "Requirement already satisfied: regex!=2019.12.17 in c:\\users\\thinking1\\anaconda3\\lib\\site-packages (from transformers) (2023.10.3)\n",
      "Requirement already satisfied: requests in c:\\users\\thinking1\\anaconda3\\lib\\site-packages (from transformers) (2.31.0)\n",
      "Requirement already satisfied: tokenizers<0.22,>=0.21 in c:\\users\\thinking1\\anaconda3\\lib\\site-packages (from transformers) (0.21.1)\n",
      "Requirement already satisfied: safetensors>=0.4.3 in c:\\users\\thinking1\\anaconda3\\lib\\site-packages (from transformers) (0.5.3)\n",
      "Requirement already satisfied: tqdm>=4.27 in c:\\users\\thinking1\\anaconda3\\lib\\site-packages (from transformers) (4.65.0)\n",
      "Requirement already satisfied: typing-extensions>=4.10.0 in c:\\users\\thinking1\\anaconda3\\lib\\site-packages (from torch) (4.13.1)\n",
      "Requirement already satisfied: networkx in c:\\users\\thinking1\\anaconda3\\lib\\site-packages (from torch) (3.1)\n",
      "Requirement already satisfied: jinja2 in c:\\users\\thinking1\\anaconda3\\lib\\site-packages (from torch) (3.1.3)\n",
      "Requirement already satisfied: fsspec in c:\\users\\thinking1\\anaconda3\\lib\\site-packages (from torch) (2023.10.0)\n",
      "Requirement already satisfied: sympy==1.13.1 in c:\\users\\thinking1\\anaconda3\\lib\\site-packages (from torch) (1.13.1)\n",
      "Requirement already satisfied: mpmath<1.4,>=1.1.0 in c:\\users\\thinking1\\anaconda3\\lib\\site-packages (from sympy==1.13.1->torch) (1.3.0)\n",
      "Requirement already satisfied: colorama in c:\\users\\thinking1\\anaconda3\\lib\\site-packages (from tqdm>=4.27->transformers) (0.4.6)\n",
      "Requirement already satisfied: MarkupSafe>=2.0 in c:\\users\\thinking1\\anaconda3\\lib\\site-packages (from jinja2->torch) (2.1.3)\n",
      "Requirement already satisfied: charset-normalizer<4,>=2 in c:\\users\\thinking1\\anaconda3\\lib\\site-packages (from requests->transformers) (2.0.4)\n",
      "Requirement already satisfied: idna<4,>=2.5 in c:\\users\\thinking1\\anaconda3\\lib\\site-packages (from requests->transformers) (3.4)\n",
      "Requirement already satisfied: urllib3<3,>=1.21.1 in c:\\users\\thinking1\\anaconda3\\lib\\site-packages (from requests->transformers) (2.0.7)\n",
      "Requirement already satisfied: certifi>=2017.4.17 in c:\\users\\thinking1\\anaconda3\\lib\\site-packages (from requests->transformers) (2024.2.2)\n",
      "Note: you may need to restart the kernel to use updated packages.\n"
     ]
    }
   ],
   "source": [
    "pip install --upgrade transformers torch\n"
   ]
  },
  {
   "cell_type": "code",
   "execution_count": 8,
   "metadata": {},
   "outputs": [],
   "source": [
    "from transformers import pipeline, BartForConditionalGeneration, BartTokenizer\n"
   ]
  },
  {
   "cell_type": "code",
   "execution_count": 9,
   "metadata": {},
   "outputs": [
    {
     "name": "stderr",
     "output_type": "stream",
     "text": [
      "Device set to use cpu\n",
      "Your max_length is set to 142, but your input_length is only 28. Since this is a summarization task, where outputs shorter than the input are typically wanted, you might consider decreasing max_length manually, e.g. summarizer('...', max_length=14)\n"
     ]
    },
    {
     "name": "stdout",
     "output_type": "stream",
     "text": [
      "Summary: The Apollo missions were a series of spaceflights undertaken by NASA to send humans to the Moon and return them safely to Earth. The Apollo missions took place between 1968 and 1972. The missions were part of a larger program to send astronauts to the moon and back. The moon was first visited by humans in 1969.\n"
     ]
    }
   ],
   "source": [
    "from transformers import pipeline\n",
    "\n",
    "# Check if summarization pipeline loads\n",
    "bart_summarizer = pipeline(\"summarization\", model=\"facebook/bart-large-cnn\")\n",
    "text = \"\"\"The Apollo missions were a series of spaceflights undertaken by NASA to send humans to the Moon and return them safely to Earth.\"\"\"\n",
    "summary = bart_summarizer(text)[0]['summary_text']\n",
    "print(\"Summary:\", summary)\n"
   ]
  },
  {
   "cell_type": "code",
   "execution_count": 10,
   "metadata": {},
   "outputs": [
    {
     "name": "stdout",
     "output_type": "stream",
     "text": [
      "Requirement already satisfied: sentencepiece in c:\\users\\thinking1\\anaconda3\\lib\\site-packages (0.2.0)\n",
      "Note: you may need to restart the kernel to use updated packages.\n"
     ]
    }
   ],
   "source": [
    "pip install sentencepiece\n"
   ]
  },
  {
   "cell_type": "code",
   "execution_count": 11,
   "metadata": {},
   "outputs": [
    {
     "name": "stderr",
     "output_type": "stream",
     "text": [
      "Device set to use cpu\n"
     ]
    },
    {
     "data": {
      "application/vnd.jupyter.widget-view+json": {
       "model_id": "57dfc482314f459f8342e73c0ec92d7c",
       "version_major": 2,
       "version_minor": 0
      },
      "text/plain": [
       "tokenizer_config.json:   0%|          | 0.00/2.32k [00:00<?, ?B/s]"
      ]
     },
     "metadata": {},
     "output_type": "display_data"
    },
    {
     "name": "stderr",
     "output_type": "stream",
     "text": [
      "c:\\Users\\Thinking1\\anaconda3\\Lib\\site-packages\\huggingface_hub\\file_download.py:144: UserWarning: `huggingface_hub` cache-system uses symlinks by default to efficiently store duplicated files but your machine does not support them in C:\\Users\\Thinking1\\.cache\\huggingface\\hub\\models--t5-small. Caching files will still work but in a degraded version that might require more space on your disk. This warning can be disabled by setting the `HF_HUB_DISABLE_SYMLINKS_WARNING` environment variable. For more details, see https://huggingface.co/docs/huggingface_hub/how-to-cache#limitations.\n",
      "To support symlinks on Windows, you either need to activate Developer Mode or to run Python as an administrator. In order to activate developer mode, see this article: https://docs.microsoft.com/en-us/windows/apps/get-started/enable-your-device-for-development\n",
      "  warnings.warn(message)\n"
     ]
    },
    {
     "data": {
      "application/vnd.jupyter.widget-view+json": {
       "model_id": "84c94940de114fdc87f722f9f605c70c",
       "version_major": 2,
       "version_minor": 0
      },
      "text/plain": [
       "spiece.model:   0%|          | 0.00/792k [00:00<?, ?B/s]"
      ]
     },
     "metadata": {},
     "output_type": "display_data"
    },
    {
     "data": {
      "application/vnd.jupyter.widget-view+json": {
       "model_id": "1af9d1fc539f4b8aaa1a8c31bf803787",
       "version_major": 2,
       "version_minor": 0
      },
      "text/plain": [
       "tokenizer.json:   0%|          | 0.00/1.39M [00:00<?, ?B/s]"
      ]
     },
     "metadata": {},
     "output_type": "display_data"
    },
    {
     "name": "stderr",
     "output_type": "stream",
     "text": [
      "You are using the default legacy behaviour of the <class 'transformers.models.t5.tokenization_t5.T5Tokenizer'>. This is expected, and simply means that the `legacy` (previous) behavior will be used so nothing changes for you. If you want to use the new behaviour, set `legacy=False`. This should only be set if you understand what it means, and thoroughly read the reason why this was added as explained in https://github.com/huggingface/transformers/pull/24565\n"
     ]
    },
    {
     "data": {
      "application/vnd.jupyter.widget-view+json": {
       "model_id": "ecbaa0cc32024d6281018b6767e90eab",
       "version_major": 2,
       "version_minor": 0
      },
      "text/plain": [
       "config.json:   0%|          | 0.00/1.21k [00:00<?, ?B/s]"
      ]
     },
     "metadata": {},
     "output_type": "display_data"
    },
    {
     "name": "stderr",
     "output_type": "stream",
     "text": [
      "Xet Storage is enabled for this repo, but the 'hf_xet' package is not installed. Falling back to regular HTTP download. For better performance, install the package with: `pip install huggingface_hub[hf_xet]` or `pip install hf_xet`\n"
     ]
    },
    {
     "data": {
      "application/vnd.jupyter.widget-view+json": {
       "model_id": "ac432b06519a43bea5546f50b0726ba0",
       "version_major": 2,
       "version_minor": 0
      },
      "text/plain": [
       "model.safetensors:   0%|          | 0.00/242M [00:00<?, ?B/s]"
      ]
     },
     "metadata": {},
     "output_type": "display_data"
    },
    {
     "data": {
      "application/vnd.jupyter.widget-view+json": {
       "model_id": "766ecc43943e48928c5eea7fbfb75582",
       "version_major": 2,
       "version_minor": 0
      },
      "text/plain": [
       "generation_config.json:   0%|          | 0.00/147 [00:00<?, ?B/s]"
      ]
     },
     "metadata": {},
     "output_type": "display_data"
    },
    {
     "data": {
      "application/vnd.jupyter.widget-view+json": {
       "model_id": "b9cdfa15c17e4a74855efc80fbf3da7d",
       "version_major": 2,
       "version_minor": 0
      },
      "text/plain": [
       "tokenizer_config.json:   0%|          | 0.00/87.0 [00:00<?, ?B/s]"
      ]
     },
     "metadata": {},
     "output_type": "display_data"
    },
    {
     "name": "stderr",
     "output_type": "stream",
     "text": [
      "c:\\Users\\Thinking1\\anaconda3\\Lib\\site-packages\\huggingface_hub\\file_download.py:144: UserWarning: `huggingface_hub` cache-system uses symlinks by default to efficiently store duplicated files but your machine does not support them in C:\\Users\\Thinking1\\.cache\\huggingface\\hub\\models--google--pegasus-xsum. Caching files will still work but in a degraded version that might require more space on your disk. This warning can be disabled by setting the `HF_HUB_DISABLE_SYMLINKS_WARNING` environment variable. For more details, see https://huggingface.co/docs/huggingface_hub/how-to-cache#limitations.\n",
      "To support symlinks on Windows, you either need to activate Developer Mode or to run Python as an administrator. In order to activate developer mode, see this article: https://docs.microsoft.com/en-us/windows/apps/get-started/enable-your-device-for-development\n",
      "  warnings.warn(message)\n"
     ]
    },
    {
     "data": {
      "application/vnd.jupyter.widget-view+json": {
       "model_id": "f9754d5bedaa4c23a9daf02cbdfe1619",
       "version_major": 2,
       "version_minor": 0
      },
      "text/plain": [
       "spiece.model:   0%|          | 0.00/1.91M [00:00<?, ?B/s]"
      ]
     },
     "metadata": {},
     "output_type": "display_data"
    },
    {
     "data": {
      "application/vnd.jupyter.widget-view+json": {
       "model_id": "940cb60deb4a4169ad548cf04afa15ba",
       "version_major": 2,
       "version_minor": 0
      },
      "text/plain": [
       "special_tokens_map.json:   0%|          | 0.00/65.0 [00:00<?, ?B/s]"
      ]
     },
     "metadata": {},
     "output_type": "display_data"
    },
    {
     "data": {
      "application/vnd.jupyter.widget-view+json": {
       "model_id": "2a2e33aa9f8f454ca6d60eb90cb54001",
       "version_major": 2,
       "version_minor": 0
      },
      "text/plain": [
       "tokenizer.json:   0%|          | 0.00/3.52M [00:00<?, ?B/s]"
      ]
     },
     "metadata": {},
     "output_type": "display_data"
    },
    {
     "data": {
      "application/vnd.jupyter.widget-view+json": {
       "model_id": "dffb66d00c65484b8acd464408dc42ca",
       "version_major": 2,
       "version_minor": 0
      },
      "text/plain": [
       "config.json:   0%|          | 0.00/1.39k [00:00<?, ?B/s]"
      ]
     },
     "metadata": {},
     "output_type": "display_data"
    },
    {
     "data": {
      "application/vnd.jupyter.widget-view+json": {
       "model_id": "08148f6b1f6c4db6ba55da41ef4aaa5c",
       "version_major": 2,
       "version_minor": 0
      },
      "text/plain": [
       "pytorch_model.bin:   0%|          | 0.00/2.28G [00:00<?, ?B/s]"
      ]
     },
     "metadata": {},
     "output_type": "display_data"
    },
    {
     "data": {
      "application/vnd.jupyter.widget-view+json": {
       "model_id": "438dedba01fd4db38fbbd1b4ab586857",
       "version_major": 2,
       "version_minor": 0
      },
      "text/plain": [
       "model.safetensors:   0%|          | 0.00/2.28G [00:00<?, ?B/s]"
      ]
     },
     "metadata": {},
     "output_type": "display_data"
    },
    {
     "name": "stderr",
     "output_type": "stream",
     "text": [
      "Some weights of PegasusForConditionalGeneration were not initialized from the model checkpoint at google/pegasus-xsum and are newly initialized: ['model.decoder.embed_positions.weight', 'model.encoder.embed_positions.weight']\n",
      "You should probably TRAIN this model on a down-stream task to be able to use it for predictions and inference.\n"
     ]
    },
    {
     "data": {
      "application/vnd.jupyter.widget-view+json": {
       "model_id": "4113d6910648493fa126cf6c1cd1ae62",
       "version_major": 2,
       "version_minor": 0
      },
      "text/plain": [
       "generation_config.json:   0%|          | 0.00/259 [00:00<?, ?B/s]"
      ]
     },
     "metadata": {},
     "output_type": "display_data"
    }
   ],
   "source": [
    "# Load summarization models\n",
    "bart_summarizer = pipeline(\"summarization\", model=\"facebook/bart-large-cnn\")\n",
    "t5_tokenizer = T5Tokenizer.from_pretrained(\"t5-small\")\n",
    "t5_model = T5ForConditionalGeneration.from_pretrained(\"t5-small\")\n",
    "pegasus_tokenizer = PegasusTokenizer.from_pretrained(\"google/pegasus-xsum\")\n",
    "pegasus_model = PegasusForConditionalGeneration.from_pretrained(\"google/pegasus-xsum\")\n",
    "\n",
    "def summarize_with_bart(text):\n",
    "    return bart_summarizer(text, max_length=120, min_length=30, do_sample=False)[0]['summary_text']\n",
    "\n",
    "def summarize_with_t5(text):\n",
    "    input_ids = t5_tokenizer.encode(\"summarize: \" + text, return_tensors=\"pt\", max_length=512, truncation=True)\n",
    "    output_ids = t5_model.generate(input_ids, max_length=120, min_length=30)\n",
    "    return t5_tokenizer.decode(output_ids[0], skip_special_tokens=True)\n",
    "\n",
    "def summarize_with_pegasus(text):\n",
    "    input_ids = pegasus_tokenizer(text, return_tensors=\"pt\", truncation=True, padding=\"longest\").input_ids\n",
    "    output = pegasus_model.generate(input_ids, max_length=120, min_length=30)\n",
    "    return pegasus_tokenizer.decode(output[0], skip_special_tokens=True)\n"
   ]
  },
  {
   "cell_type": "code",
   "execution_count": 12,
   "metadata": {},
   "outputs": [
    {
     "name": "stdout",
     "output_type": "stream",
     "text": [
      "TF-IDF Summary:\n",
      "The bishop of the Fargo Catholic Diocese in North Dakota has exposed potentially hundreds of church members in Fargo, Grand Forks and Jamestown to the hepatitis A virus in late September and early October. Bishop John Folda (pictured) of the Fargo Catholic Diocese in North Dakota has exposed potentially hundreds of church members in Fargo, Grand Forks and Jamestown to the hepatitis A . State Immunization Program Manager Molly Howell says the risk is low, but officials feel it's important to alert people to the possible exposure.\n",
      "\n",
      "Named Entities:\n",
      "[('Associated Press', 'ORG'), ('14:11 EST', 'TIME'), ('25 October 2013', 'DATE'), ('15:36 EST', 'TIME'), ('25 October 2013', 'DATE'), ('the Fargo Catholic Diocese', 'ORG'), ('North Dakota', 'GPE'), ('hundreds', 'CARDINAL'), ('Fargo', 'GPE'), ('Grand Forks', 'GPE'), ('Jamestown', 'ORG'), ('late September', 'DATE'), ('early October', 'DATE'), ('Health Department', 'ORG'), ('five', 'CARDINAL'), ('John Folda', 'PERSON'), ('the Fargo Catholic Diocese', 'ORG'), ('North Dakota', 'GPE'), ('hundreds', 'CARDINAL'), ('Fargo', 'GPE'), ('Grand Forks', 'GPE'), ('Jamestown', 'ORG'), ('State Immunization Program', 'ORG'), ('Molly Howell', 'PERSON'), ('Monday', 'DATE'), ('Bishop', 'ORG'), ('John Folda', 'PERSON'), ('Italy', 'GPE'), ('last month', 'DATE'), ('Fargo Catholic Diocese', 'NORP'), ('North Dakota', 'GPE')]\n",
      "\n",
      "BART Summary:\n",
      "Bishop John Folda of the Fargo Catholic Diocese in North Dakota has exposed potentially hundreds of church members in Fargo, Grand Forks and Jamestown to the hepatitis A. The state Health Department has issued an advisory of exposure for anyone who attended five churches and took communion.\n",
      "\n",
      "T5 Summary:\n",
      "bishop of the fargo Catholic Diocese in north Dakota has exposed hundreds of church members to the hepatitis A virus. the state health department has issued an advisory of exposure for anyone who attended five churches and took communion.\n",
      "\n",
      "Pegasus Summary:\n",
      "The Fargo Catholic Diocese in North Dakota has exposed potentially hundreds of church members in Fargo, Grand and Jamestown to the hepatitis A virus in late September and early October.\n",
      "\n",
      "Reference Summary:\n",
      "Bishop John Folda, of North Dakota, is taking time off after being diagnosed .\n",
      "He contracted the infection through contaminated food in Italy .\n",
      "Church members in Fargo, Grand Forks and Jamestown could have been exposed .\n"
     ]
    }
   ],
   "source": [
    "import pandas as pd\n",
    "\n",
    "# Load the CNN/DailyMail dataset\n",
    "df = pd.read_csv(\"cnndaily_train.csv\")\n",
    "df = df[['article', 'highlights']].dropna().reset_index(drop=True)\n",
    "\n",
    "# Grab the first article\n",
    "sample_text = df.loc[0, 'article']\n",
    "reference_summary = df.loc[0, 'highlights']\n",
    "\n",
    "# Preprocess the article\n",
    "preprocessed = preprocess_text(sample_text)\n",
    "\n",
    "# Extractive methods\n",
    "print(\"TF-IDF Summary:\")\n",
    "print(tfidf_summary(sample_text))\n",
    "\n",
    "print(\"\\nNamed Entities:\")\n",
    "print(extract_named_entities(sample_text))\n",
    "\n",
    "# Abstractive methods\n",
    "print(\"\\nBART Summary:\")\n",
    "print(summarize_with_bart(sample_text))\n",
    "\n",
    "print(\"\\nT5 Summary:\")\n",
    "print(summarize_with_t5(sample_text))\n",
    "\n",
    "print(\"\\nPegasus Summary:\")\n",
    "print(summarize_with_pegasus(sample_text))\n",
    "\n",
    "# Optional: Show the original highlight/summary from the dataset\n",
    "print(\"\\nReference Summary:\")\n",
    "print(reference_summary)\n"
   ]
  },
  {
   "cell_type": "code",
   "execution_count": 13,
   "metadata": {},
   "outputs": [],
   "source": [
    "from rouge_score import rouge_scorer\n",
    "\n",
    "# Initialize scorer\n",
    "scorer = rouge_scorer.RougeScorer(['rouge1', 'rougeL'], use_stemmer=True)\n",
    "\n",
    "# Replace with your real generated summaries and reference\n",
    "reference = reference_summary  # from your dataset\n",
    "tfidf = tfidf_summary(sample_text)\n",
    "bart = summarize_with_bart(sample_text)\n",
    "t5 = summarize_with_t5(sample_text)\n",
    "pegasus = summarize_with_pegasus(sample_text)\n",
    "\n",
    "# Compute scores\n",
    "scores = {\n",
    "    'TF-IDF': scorer.score(reference, tfidf),\n",
    "    'BART': scorer.score(reference, bart),\n",
    "    'T5': scorer.score(reference, t5),\n",
    "    'Pegasus': scorer.score(reference, pegasus)\n",
    "}\n"
   ]
  },
  {
   "cell_type": "code",
   "execution_count": 14,
   "metadata": {},
   "outputs": [
    {
     "data": {
      "image/png": "[encoded data removed]",
      "text/plain": [
       "<Figure size 800x500 with 1 Axes>"
      ]
     },
     "metadata": {},
     "output_type": "display_data"
    },
    {
     "data": {
      "image/png": "[encoded data removed]",
      "text/plain": [
       "<Figure size 800x500 with 1 Axes>"
      ]
     },
     "metadata": {},
     "output_type": "display_data"
    }
   ],
   "source": [
    "rouge_df = pd.DataFrame({\n",
    "    'Model': scores.keys(),\n",
    "    'ROUGE-1': [s['rouge1'].fmeasure for s in scores.values()],\n",
    "    'ROUGE-L': [s['rougeL'].fmeasure for s in scores.values()]\n",
    "})\n",
    "\n",
    "plt.figure(figsize=(8,5))\n",
    "sns.barplot(data=rouge_df, x='Model', y='ROUGE-1')\n",
    "plt.title(\"ROUGE-1 Score Comparison\")\n",
    "plt.show()\n",
    "\n",
    "plt.figure(figsize=(8,5))\n",
    "sns.barplot(data=rouge_df, x='Model', y='ROUGE-L')\n",
    "plt.title(\"ROUGE-L Score Comparison\")\n",
    "plt.show()\n"
   ]
  },
  {
   "cell_type": "code",
   "execution_count": 15,
   "metadata": {},
   "outputs": [
    {
     "name": "stdout",
     "output_type": "stream",
     "text": [
      "TF-IDF Summary:\n",
      "The technique developed is a variant of dependency-directed\n",
      "backtracking that uses only polynomial space while still providing useful\n",
      "control information and retaining the completeness guarantees provided by\n",
      "earlier approaches. Because of their occasional need to return to shallow points in a search\n",
      "tree, existing backtracking methods can sometimes erase meaningful progress\n",
      "toward solving a search problem. In this paper, we present a method by which\n",
      "backtrack points can be moved deeper in the search space, thereby avoiding this\n",
      "difficulty.\n",
      "\n",
      "Named Entities:\n"
     ]
    },
    {
     "name": "stderr",
     "output_type": "stream",
     "text": [
      "Your max_length is set to 120, but your input_length is only 105. Since this is a summarization task, where outputs shorter than the input are typically wanted, you might consider decreasing max_length manually, e.g. summarizer('...', max_length=52)\n"
     ]
    },
    {
     "name": "stdout",
     "output_type": "stream",
     "text": [
      "[]\n",
      "\n",
      "BART Summary:\n",
      "Backtracking methods can sometimes erase meaningful progress toward solving a search problem. The technique developed is a variant of dependency-directedbacktracking that uses only polynomial space while still providing useful control information.\n",
      "\n",
      "T5 Summary:\n",
      "backtrack points can be moved deeper in the search space. the technique is a variant of dependency-directed backtracking. it provides useful control information and retaining completeness guarantees.\n",
      "\n",
      "Pegasus Summary:\n",
      "Backtracking is the process of moving information between points in a search tree in order to provide useful control and completeness over the search space. The technique developed is a variant of dependency-directed backtracking that uses only space still providing useful control and completeness guarantees.\n",
      "\n",
      "Reference Summary:\n",
      "Because of their occasional need to return to shallow points in a search\n",
      "tree, existing backtracking methods can sometimes erase meaningful progress\n",
      "toward solving a search problem. In this paper, we present a method by which\n",
      "backtrack points can be moved deeper in the search space, thereby avoiding this\n",
      "difficulty. The technique developed is a variant of dependency-directed\n",
      "backtracking that uses only polynomial space while still providing useful\n",
      "control information and retaining the completeness guarantees provided by\n",
      "earlier approaches.\n"
     ]
    }
   ],
   "source": [
    "#generate the output for summarized scientific papers the same way as cnn daily\n",
    "import pandas as pd\n",
    "\n",
    "# Load the scientific papers dataset\n",
    "df = pd.read_csv(\"scientific_papers.csv\")\n",
    "df = df[['summary']].dropna().reset_index(drop=True)\n",
    "\n",
    "# Create a new column that combines the title and authors with the paper content if needed\n",
    "# Optional, depending on what you want to summarize. For now, we'll just summarize the abstract/summary.\n",
    "sample_text = df.loc[0, 'summary']\n",
    "reference_summary = df.loc[0, 'summary']  # In some datasets, summary might already be the target\n",
    "\n",
    "# Preprocess the article\n",
    "preprocessed = preprocess_text(sample_text)\n",
    "\n",
    "# Extractive methods\n",
    "print(\"TF-IDF Summary:\")\n",
    "print(tfidf_summary(sample_text))\n",
    "\n",
    "print(\"\\nNamed Entities:\")\n",
    "print(extract_named_entities(sample_text))\n",
    "\n",
    "# Abstractive methods\n",
    "print(\"\\nBART Summary:\")\n",
    "print(summarize_with_bart(sample_text))\n",
    "\n",
    "print(\"\\nT5 Summary:\")\n",
    "print(summarize_with_t5(sample_text))\n",
    "\n",
    "print(\"\\nPegasus Summary:\")\n",
    "print(summarize_with_pegasus(sample_text))\n",
    "\n",
    "# Optional: Show the original summary from the dataset\n",
    "print(\"\\nReference Summary:\")\n",
    "print(reference_summary)\n",
    "\n"
   ]
  },
  {
   "cell_type": "code",
   "execution_count": null,
   "metadata": {},
   "outputs": [
    {
     "name": "stderr",
     "output_type": "stream",
     "text": [
      "Your max_length is set to 120, but your input_length is only 105. Since this is a summarization task, where outputs shorter than the input are typically wanted, you might consider decreasing max_length manually, e.g. summarizer('...', max_length=52)\n"
     ]
    },
    {
     "data": {
      "image/png": "[encoded data removed]",
      "text/plain": [
       "<Figure size 800x500 with 1 Axes>"
      ]
     },
     "metadata": {},
     "output_type": "display_data"
    },
    {
     "data": {
      "image/png": "[encoded data removed]",
      "text/plain": [
       "<Figure size 800x500 with 1 Axes>"
      ]
     },
     "metadata": {},
     "output_type": "display_data"
    }
   ],
   "source": [
    "#generating code to compare the rouge scores\n",
    "#comment\n",
    "\n",
    "from rouge_score import rouge_scorer\n",
    "\n",
    "scorer = rouge_scorer.RougeScorer(['rouge1', 'rougeL'], use_stemmer=True)\n",
    "\n",
    "reference = reference_summary  # from your dataset\n",
    "tfidf = tfidf_summary(sample_text)\n",
    "bart = summarize_with_bart(sample_text)\n",
    "t5 = summarize_with_t5(sample_text)\n",
    "pegasus = summarize_with_pegasus(sample_text)\n",
    "\n",
    "# Compute scores\n",
    "scores = {\n",
    "    'TF-IDF': scorer.score(reference, tfidf),\n",
    "    'BART': scorer.score(reference, bart),\n",
    "    'T5': scorer.score(reference, t5),\n",
    "    'Pegasus': scorer.score(reference, pegasus)\n",
    "}\n",
    "\n",
    "rouge_df = pd.DataFrame({\n",
    "    'Model': scores.keys(),\n",
    "    'ROUGE-1': [s['rouge1'].fmeasure for s in scores.values()],\n",
    "    'ROUGE-L': [s['rougeL'].fmeasure for s in scores.values()]\n",
    "})\n",
    "\n",
    "plt.figure(figsize=(8,5))\n",
    "sns.barplot(data=rouge_df, x='Model', y='ROUGE-1')\n",
    "plt.title(\"ROUGE-1 Score Comparison\")\n",
    "plt.show()\n",
    "\n",
    "plt.figure(figsize=(8,5))\n",
    "sns.barplot(data=rouge_df, x='Model', y='ROUGE-L')\n",
    "plt.title(\"ROUGE-L Score Comparison\")\n",
    "plt.show()\n",
    "\n"
   ]
  },
  {
   "cell_type": "code",
   "execution_count": 32,
   "metadata": {},
   "outputs": [
    {
     "name": "stdout",
     "output_type": "stream",
     "text": [
      "TF-IDF Summary:\n",
      "One  after the shraddha ceremony (offering of Vishnu prasad to the forefathers) had been performed, Vyasadeva approached Satyavati and warned her, \"Mother, the s of happiness in the Kuru house will set like the evening sun. Dhritarastra then requested Vidura, \"O brother, we must perform the last rites for this King of kings and arrange charity to be given freely to whomever is in need. After Yudhisthira, Arjuna, Nakula, Sahadeva and Dhritarastra's sons were satiated in their swimming play, they set out for Hastinapura anticipating that Bhima had already gone there.\n",
      "\n",
      "Named Entities:\n",
      "[(\"King Pandu's\", 'PERSON'), ('Kunti', 'FAC'), ('Pandavas', 'NORP'), ('Hastinapura', 'GPE'), ('Grandfather Bhishma', 'PERSON'), ('Kuru', 'PERSON'), ('Charanas', 'GPE'), ('Kunti', 'PERSON'), ('Hastinapura', 'GPE'), ('Kunti', 'PERSON'), ('Kuru', 'PERSON'), ('Bhishma', 'GPE'), ('Dhritarastra', 'GPE'), ('Vidura', 'PERSON'), ('Hastinapura', 'GPE'), ('Pandu', 'NORP'), ('Charanas', 'GPE'), ('Kuru', 'PERSON'), ('Pandu', 'ORG'), ('five', 'CARDINAL'), ('Yudhisthira', 'GPE'), ('Yamaraja', 'GPE'), ('second', 'ORDINAL'), ('Bhima', 'PERSON'), ('Vayu', 'PERSON'), ('third', 'ORDINAL'), ('Arjuna', 'PERSON'), ('Indra', 'PERSON'), ('two', 'CARDINAL'), ('Nakula', 'PERSON'), ('Sahadeva', 'GPE'), ('Asvini', 'NORP'), ('Madri', 'GPE'), ('Pandu', 'ORG'), ('King Pandu', 'PERSON'), ('Madri', 'GPE'), ('seventeen s ago', 'DATE'), ('Kuru', 'PERSON'), ('Charanas', 'PERSON'), ('Dhritarastra', 'ORG'), ('Vidura', 'PERSON'), ('Pandu', 'NORP'), ('Madri', 'GPE'), ('Ganges', 'ORG'), ('Ganges', 'ORG'), ('twelve', 'CARDINAL'), ('One', 'CARDINAL'), ('Vishnu prasad', 'WORK_OF_ART'), ('Vyasadeva', 'GPE'), ('Satyavati', 'ORG'), ('Kuru', 'PERSON'), ('evening', 'TIME'), ('Kauravas', 'LOC'), ('Vishnu', 'PERSON'), ('Vyasa', 'GPE'), ('Satyavati', 'GPE'), ('Ambika', 'PERSON'), ('Ambalika', 'PERSON'), ('Vaikuntha', 'PERSON'), ('Pandavas', 'NORP'), ('Dhritarastra', 'GPE'), ('Dhritarastra', 'ORG'), ('Bhima', 'ORG'), ('second', 'ORDINAL'), ('Pandu', 'ORG'), ('ten', 'CARDINAL'), ('Dhritarastra', 'ORG'), ('Bhima', 'PERSON'), ('one-hundred', 'CARDINAL'), ('Bhima', 'PERSON'), ('one-hundred', 'CARDINAL'), ('Dhritarastra', 'ORG'), ('Duryodhana', 'PERSON'), ('Bhima', 'PERSON'), ('one-hundred', 'CARDINAL'), ('Yudhisthira', 'GPE'), ('Arjuna', 'PERSON'), ('Duryodhana', 'PERSON'), ('Ganges', 'ORG'), ('Pandavas', 'NORP'), ('Bhima', 'PERSON'), ('Duryodhana', 'PERSON'), ('Duryodhana', 'PERSON'), ('Duryodhana', 'PERSON'), ('Gange', 'ORG'), ('Duryodhana', 'PERSON'), ('Pandavas', 'NORP'), ('Dhritarastra', 'ORG'), ('Ganges', 'ORG'), ('Duryodhana', 'PERSON'), ('Bhima', 'PERSON'), ('one hundred', 'CARDINAL'), ('Bhima', 'NORP'), ('Duryodhana', 'PERSON'), ('Ganges', 'ORG'), ('Naga', 'PERSON'), ('Thousands', 'CARDINAL'), ('Nagas', 'ORG'), ('Kunti', 'ORG'), ('Vasuki', 'PERSON'), ('Vasuki', 'PERSON'), ('Bhima', 'NORP'), ('Vayu', 'PERSON'), ('Bhima', 'PERSON'), ('Vasuki', 'PERSON'), ('Vasuki', 'PERSON'), ('Vayu', 'PERSON'), ('eight', 'CARDINAL'), ('nectar', 'ORG'), ('ten thousand', 'CARDINAL'), ('one', 'CARDINAL'), ('eight', 'CARDINAL'), ('Yudhisthira', 'GPE'), ('Arjuna', 'GPE'), ('Nakula', 'PERSON'), ('Sahadeva', 'GPE'), ('Dhritarastra', 'ORG'), ('Hastinapura', 'GPE'), ('Bhima', 'PERSON'), ('Duryodhana', 'PERSON'), ('Bhima', 'PERSON'), ('Hastinapura', 'GPE'), ('Yudhisthira', 'PERSON'), ('Bhima', 'PERSON'), ('Ganges', 'ORG'), ('Kunti', 'PERSON'), ('Bhima', 'PERSON'), ('Yudhisthira', 'GPE'), ('Kunti', 'ORG'), ('Vidura', 'PERSON'), ('Vidura', 'ORG'), ('Bhima', 'PERSON'), ('Ganges', 'ORG'), ('Duryodhana', 'PERSON'), ('first', 'ORDINAL'), ('Dhritarastra', 'ORG'), ('Bhima', 'PERSON'), ('Vidura', 'PERSON'), ('Duryodhana', 'PERSON'), ('Vyasadeva', 'GPE'), ('Bhima', 'PERSON'), ('Vidura', 'PERSON'), ('Kunti', 'ORG'), ('Bhimasena', 'ORG'), ('eight', 'CARDINAL'), ('Nagas', 'ORG'), ('Bhima', 'ORG'), ('ten thousand', 'CARDINAL'), ('Nagas', 'ORG'), ('Hastinapura', 'GPE'), ('Queen Kunti', 'PERSON'), ('Duryodhana', 'PERSON'), ('Dhritarastra', 'ORG'), ('Ganges', 'ORG'), ('Nagas', 'ORG'), ('eight', 'CARDINAL'), ('thousands', 'CARDINAL'), ('Yudhisthira', 'PERSON'), ('Vidura', 'PERSON')]\n",
      "\n",
      "T5 Summary:\n",
      "the sages in the forest assembled and discussed the future of Kunti and her sons. the sages were interested in their own salvation, but in the protection and advancement of the people. the sages then informed the citizens of Hastinapura, the sages.\n",
      "\n",
      "Pegasus Summary:\n",
      "Legend has it that the former king of this world, Pandu, had been living in the forest as an ascetic due to a curse performed by his wife Madri.\n",
      "\n",
      "Reference Summary:\n",
      "After King Pandu's demise, the sages in the forest assembled and discussed the future of Kunti and her sons. The rishis decided that the Pandavas, along with their mother, should live in Hastinapura and take shelter of Grandfather Bhishma and the Kuru elders. The sages had great compassion upon the people of the world. They were not just interested in their own salvation, but in the protection and advancement of the people in general. Knowing these boys to be future Kings of the earth, the great sages made arrangements for them to be placed under proper guidance.\n",
      "Accompanied by the sages and the Charanas [a species of celestial beings like the seraphim and cherubim], Kunti and her children appeared outside the city gates of Hastinapura. Upon hearing that Kunti was at the city gate, the members of the Kuru court, headed by Bhishma, Dhritarastra and Vidura, came forward to welcome them. The citizens of Hastinapura also came there to see the sons of Pandu. Everyone was wonder struck to behold the godlike sages accompanied by the celestial Charanas.\n",
      "The sages then informed the Kuru elders, \"As you well know the former king of this world, Pandu, had been living in the forest as an ascetic due to a muni's curse. The curse has now taken its toll and that great King has ascended to the heavenly planets. Here are his five children. The oldest is Yudhisthira, conceived by the controller of religion, Yamaraja himself. He is the future king. The second son, Bhima, conceived by the demigod Vayu, possesses infinite strength. The third son is Arjuna, conceived by the noble Indra himself. He will humble the pride of all archers on earth. The last two children are Nakula and Sahadeva, begotten by the Asvini-kumara demigods through Madri. The birth, growth and development of Pandu's children will give great pleasure to all. King Pandu and his wife Madri departed seventeen s ago. The last funeral rites need to be performed with honor befitting a king of this earth.  After informing the Kuru elders of all matters, the sages and Charanas disappeared from sight.\n",
      "Dhritarastra then requested Vidura, \"O brother, we must perform the last rites for this King of kings and arrange charity to be given freely to whomever is in need.  The ashes of Pandu and Madri were then taken in state to the banks of the Ganges, where the last funeral rites were performed. The ashes were then cast into the Ganges. All the citizens, young and old, wept over the loss of their King, and thus passed twelve s in mourning.\n",
      "One  after the shraddha ceremony (offering of Vishnu prasad to the forefathers) had been performed, Vyasadeva approached Satyavati and warned her, \"Mother, the s of happiness in the Kuru house will set like the evening sun. The empire of the Kauravas will no longer endure. You should not be a witness to the annihilation of your dynasty. Therefore, enter the forest and fix your mind on the Supreme Lord Vishnu, the protector of all.  Following the advice of Vyasa, Satyavati, along with Ambika and Ambalika, entered the forest. When their meditation attained perfection, they entered the spiritual world, Vaikuntha.\n",
      "After the Pandavas settled in their father's palace, they accustomed themselves to the opulence that was due to them. Whenever Bhima was engaged in play with the sons of Dhritarastra, his strength became apparent. Bhima proved superior in speed, striking objects, consuming food and scattering dust. The son of the wind-god pulled the sons of Dhritarastra by the hair and made them fight with one another, laughing all the while. Bhima would seize them by the hair, throw them down, and drag them along the ground. In his playful mood, Bhima would accidentally break their knees, their heads and their shoulders.  while swimming together, the second son of Pandu would hold ten of them at a time under water until they were almost dead. When the sons of Dhritarastra would climb a tree to gather fruits, Bhima would shake the tree until the fruits as well as the one-hundred sons fell to the ground. He would play with them in childishness, but would never hurt them out of envy.\n",
      "When it was obvious that Bhima could challenge all the one-hundred sons of Dhritarastra single-handedly, Duryodhana began to make deceitful plans to harm him. He thought, \"There is no person who can compare with Bhima's strength. He does not think twice of challenging my one-hundred brothers to combat. I will exterminate him and confine Yudhisthira and Arjuna to imprisonment. Then I shall be the sole heir to the throne without hindrance.\n",
      "Possessed with this mentality, the wicked Duryodhana built a palace on the banks of the Ganges that was just for sporting in the water. His plan was to invite the Pandavas to this house and feed Bhima a poisoned cake. When Bhima was unconscious from the poison, Duryodhana and his brothers would throw him in the Ganges. With this evil plan in mind, Duryodhana began construction. After the palace was completed, Duryodhana invited his cousins, \"Let us go to Gange's bank and sport in the water. We shall have a picnic and enjoy the scenery.\n",
      "Not understanding Duryodhana's evil intentions, the Pandavas accompanied Dhritarastra's sons to the banks of the Ganges and inspected the newly constructed palace by the water. They all sat down to a feast before swimming. Duryodhana brought Bhima a cake filled with enough poison to kill one hundred men. That wicked youth, who spoke sweetly, but whose heart was like a razor, continued to feed Bhima different kinds of food that were filled with poison. After the feast the boys began playing in the water. Bhima became fatigued from the poison, and rising from the water, lay down on the ground. Seizing this opportunity, Duryodhana and some of his brothers bound him with ropes and threw him into the Ganges. He sank down to the bottom of the river where the Naga (snake) kingdom is situated. Thousands of Nagas began to bite him, and the poison from the cake was neutralized by the serpents' venom.\n",
      "On regaining consciousness, the son of Kunti broke his bonds and began killing the snakes that were biting him. The rest of the snakes fled and went to their leader Vasuki, telling him the events that had taken place. Vasuki happened to be related to Bhima through the wind god Vayu, and upon hearing that Bhima was present, he went to the spot and embraced him. Bhima then related to Vasuki the sinister plan of the poisoned cake. Vasuki, wanting to protect him from future attacks, offered Vayu's son eight bowls of nectar which empowered a person with the strength of ten thousand elephants. Bhima drank one bowl in one breath, and after drinking all eight, he lay down on a bed prepared by the serpents.\n",
      "After Yudhisthira, Arjuna, Nakula, Sahadeva and Dhritarastra's sons were satiated in their swimming play, they set out for Hastinapura anticipating that Bhima had already gone there. The wicked Duryodhana was elated thinking that Bhima was dead, and he appeared very happy on the way back to Hastinapura. Yudhisthira, who was unacquainted with vice and wickedness, thought nothing of the matter. Upon entering the palace chambers of his mother, he inquired, \"O mother, have you seen Bhima? I cannot find him anywhere. While swimming in the Ganges, he became tired and slept on the shore. After finishing our water sports, he had disappeared. Has he come here early because of exhaustion from swimming?\n",
      "Kunti became alarmed when she heard that Bhima was missing. \"My dear Yudhisthira,  she said, \"I have not seen Bhima. He has not come here. Return in haste with your brothers and try to find him.  After dismissing her sons, Kunti summoned Vidura and anxiously spoke to him, \"O illustrious Vidura, Bhima is missing. To the boys went swimming in the Ganges, and they returned without him. I know that Duryodhana is envious of him. This first son of Dhritarastra is crooked, malicious, low-minded and cruel. His only desire is to obtain the throne. I am afraid he might have killed Bhima and this is saddening my heart.\n",
      "\"Blessed lady,  Vidura replied, \"do not grieve. Protect your sons with care. If Duryodhana is accused, he might slay the other sons. The great sage Vyasadeva has foretold that your sons will be long-lived. Therefore, Bhima will surely return and gladden your heart.  Vidura then left for his residence and Kunti, unable to shake her anxiety, stayed in her quarters.\n",
      "Meanwhile, Bhimasena awoke from his deep sleep after eight s. The Nagas extoled him and tended to his needs. \"O greatly powerful Bhima,  they said, \"you are filled with the nectar of the heavenly gods. This will give you the vitality of ten thousand elephants. No one will be able to defeat you in battle. You must now return home, for your mother is in deep anxiety over your absence.  The Nagas then dressed him in fine silks and ornaments and returned him to the palace by the river.\n",
      "Bhima sprinted to Hastinapura with great haste. He entered the palace of his mother and bowed at her feet and at the feet of his elder brother. Queen Kunti took her son on her lap, and as she affectionately embraced him, tears glided down her face. The other brothers gathered round and welcomed him warmly. Bhima then briefed them on everything that had happened. He explained how Duryodhana had tried to poison him, and how the wicked son of Dhritarastra and his brothers had tied him up and thrown him in the Ganges. Bhima also explained how the Nagas had bitten him, countering the poison in the cake. He told how he had been given eight bowls of immortal elixir, and how his strength had increased thousands of times. \"Do not speak of this to anyone,  Yudhisthira said. \"From this  on we should protect one another with care. Under Vidura's guidance, no harm can come to us.\n"
     ]
    }
   ],
   "source": [
    "import pandas as pd\n",
    "\n",
    "#load the Mahabharata dataset\n",
    "df = pd.read_csv(\"mahabharat_1-2.csv\")\n",
    "df = df[['Summary']].dropna().reset_index(drop=True)\n",
    "\n",
    "# Create a new column that combines the title and authors with the paper content if needed\n",
    "# Optional, depending on what you want to summarize. For now, we'll just summarize the abstract/summary.\n",
    "sample_text = df.loc[6, 'Summary']\n",
    "reference_summary = df.loc[6, 'Summary']\n",
    "\n",
    "# Preprocess the text (you should have defined this function earlier)\n",
    "preprocessed = preprocess_text(sample_text)\n",
    "\n",
    "# Extractive methods\n",
    "print(\"TF-IDF Summary:\")\n",
    "print(tfidf_summary(sample_text))\n",
    "\n",
    "print(\"\\nNamed Entities:\")\n",
    "print(extract_named_entities(sample_text))\n",
    "\n",
    "# Abstractive methods\n",
    "#print(\"\\nBART Summary:\")\n",
    "#print(summarize_with_bart(sample_text))\n",
    "\n",
    "print(\"\\nT5 Summary:\")\n",
    "print(summarize_with_t5(sample_text))\n",
    "\n",
    "print(\"\\nPegasus Summary:\")\n",
    "print(summarize_with_pegasus(sample_text))\n",
    "\n",
    "# Reference\n",
    "print(\"\\nReference Summary:\")\n",
    "print(reference_summary)\n"
   ]
  },
  {
   "cell_type": "code",
   "execution_count": 34,
   "metadata": {},
   "outputs": [
    {
     "data": {
      "image/png": "[encoded data removed]",
      "text/plain": [
       "<Figure size 800x500 with 1 Axes>"
      ]
     },
     "metadata": {},
     "output_type": "display_data"
    },
    {
     "data": {
      "image/png": "[encoded data removed]",
      "text/plain": [
       "<Figure size 800x500 with 1 Axes>"
      ]
     },
     "metadata": {},
     "output_type": "display_data"
    }
   ],
   "source": [
    "#generating the rouge scores\n",
    "\n",
    "from rouge_score import rouge_scorer\n",
    "\n",
    "scorer = rouge_scorer.RougeScorer(['rouge1', 'rougeL'], use_stemmer=True)\n",
    "\n",
    "reference = reference_summary  # from your dataset\n",
    "tfidf = tfidf_summary(sample_text)\n",
    "#bart = summarize_with_bart(sample_text)\n",
    "t5 = summarize_with_t5(sample_text)\n",
    "pegasus = summarize_with_pegasus(sample_text)\n",
    "\n",
    "# Compute scores\n",
    "scores = {\n",
    "    'TF-IDF': scorer.score(reference, tfidf),\n",
    "    #'BART': scorer.score(reference, bart),\n",
    "    'T5': scorer.score(reference, t5),\n",
    "    'Pegasus': scorer.score(reference, pegasus)\n",
    "}\n",
    "\n",
    "rouge_df = pd.DataFrame({\n",
    "    'Model': scores.keys(),\n",
    "    'ROUGE-1': [s['rouge1'].fmeasure for s in scores.values()],\n",
    "    'ROUGE-L': [s['rougeL'].fmeasure for s in scores.values()]\n",
    "})\n",
    "\n",
    "plt.figure(figsize=(8,5))\n",
    "sns.barplot(data=rouge_df, x='Model', y='ROUGE-1')\n",
    "plt.title(\"ROUGE-1 Score Comparison\")\n",
    "plt.show()\n",
    "\n",
    "plt.figure(figsize=(8,5))\n",
    "sns.barplot(data=rouge_df, x='Model', y='ROUGE-L')\n",
    "plt.title(\"ROUGE-L Score Comparison\")\n",
    "plt.show()\n"
   ]
  },
  {
   "cell_type": "code",
   "execution_count": 38,
   "metadata": {},
   "outputs": [
    {
     "name": "stderr",
     "output_type": "stream",
     "text": [
      "Device set to use cpu\n",
      "Device set to use cpu\n",
      "Some weights of PegasusForConditionalGeneration were not initialized from the model checkpoint at google/pegasus-cnn_dailymail and are newly initialized: ['model.decoder.embed_positions.weight', 'model.encoder.embed_positions.weight']\n",
      "You should probably TRAIN this model on a down-stream task to be able to use it for predictions and inference.\n",
      "Device set to use cpu\n"
     ]
    },
    {
     "name": "stdout",
     "output_type": "stream",
     "text": [
      "TF-IDF Summary:\n",
      "The bishop of the Fargo Catholic Diocese in North Dakota has exposed potentially hundreds of church members in Fargo, Grand Forks and Jamestown to the hepatitis A virus in late September and early October. Bishop John Folda (pictured) of the Fargo Catholic Diocese in North Dakota has exposed potentially hundreds of church members in Fargo, Grand Forks and Jamestown to the hepatitis A . State Immunization Program Manager Molly Howell says the risk is low, but officials feel it's important to alert people to the possible exposure.\n",
      "\n",
      "Named Entities:\n",
      "['John Folda', 'Jamestown', 'Monday', 'Fargo Catholic Diocese', 'last month', 'Associated Press', 'late September', '25 October 2013', 'Health Department', 'Italy', 'Molly Howell', 'North Dakota', 'Bishop', 'Grand Forks', 'Fargo', '15:36 EST', 'five', 'State Immunization Program', '14:11 EST', 'the Fargo Catholic Diocese', 'early October', 'hundreds']\n",
      "\n",
      "BART Summary:\n",
      "Bishop John Folda of the Fargo Catholic Diocese in North Dakota has exposed potentially hundreds of church members in Fargo, Grand Forks and Jamestown to the hepatitis A. The state Health Department has issued an advisory of exposure for anyone who attended five churches and took communion.\n",
      "\n",
      "T5 (Fine-tuned) Summary:\n",
      "bishop of the Fargo Catholic Diocese in North Dakota has exposed hundreds of church members in Fargo, Grand Forks and Jamestown to the hepatitis A virus in late September and early October. The state Health Department has issued an advisory of exposure for anyone who attended five churches and took communion. The diocese announced on Monday that Bishop John Folda is taking time off after being diagnosed with the infection through contaminated food.\n",
      "\n",
      "Pegasus (Fine-tuned) Summary:\n",
      "The state Health Department has issued an advisory of exposure for anyone who attended five churches and took communion .<n>The diocese announced on Monday that Bishop John Folda is taking time off after being diagnosed with hepatitis A .\n",
      "\n",
      "Reference Summary:\n",
      "Bishop John Folda, of North Dakota, is taking time off after being diagnosed .\n",
      "He contracted the infection through contaminated food in Italy .\n",
      "Church members in Fargo, Grand Forks and Jamestown could have been exposed .\n"
     ]
    }
   ],
   "source": [
    "#fine tunning\n",
    "import pandas as pd\n",
    "import re\n",
    "from transformers import pipeline, AutoTokenizer, AutoModelForSeq2SeqLM\n",
    "from sklearn.feature_extraction.text import TfidfVectorizer\n",
    "from sklearn.metrics.pairwise import cosine_similarity\n",
    "import spacy\n",
    "\n",
    "# --------- Preprocessing Function ---------\n",
    "def preprocess_text(text):\n",
    "    text = re.sub(r'\\s+', ' ', text)  # Normalize whitespace\n",
    "    text = re.sub(r'\\[[^\\]]*\\]', '', text)  # Remove references like [1]\n",
    "    return text.strip()\n",
    "\n",
    "def tfidf_summary(text, n_sentences=3):\n",
    "    sentences = re.split(r'(?<=[.!?]) +', text)\n",
    "    if len(sentences) <= n_sentences:\n",
    "        return text\n",
    "\n",
    "    vectorizer = TfidfVectorizer(stop_words='english')\n",
    "    tfidf_matrix = vectorizer.fit_transform(sentences)\n",
    "    scores = tfidf_matrix.sum(axis=1).A1  # Convert matrix to flat array\n",
    "    top_sentence_indices = sorted(range(len(scores)), key=lambda i: scores[i], reverse=True)[:n_sentences]\n",
    "    top_sentence_indices.sort()  # Optional: preserve original order\n",
    "    return ' '.join([sentences[i] for i in top_sentence_indices])\n",
    "\n",
    "\n",
    "# --------- Named Entity Extractor ---------\n",
    "nlp = spacy.load(\"en_core_web_sm\")\n",
    "def extract_named_entities(text):\n",
    "    doc = nlp(text)\n",
    "    return list(set([ent.text for ent in doc.ents]))\n",
    "\n",
    "# --------- Load Fine-Tuned Transformers ---------\n",
    "bart_summarizer = pipeline(\"summarization\", model=\"facebook/bart-large-cnn\")\n",
    "t5_summarizer = pipeline(\"summarization\", model=\"mrm8488/t5-base-finetuned-summarize-news\")\n",
    "pegasus_summarizer = pipeline(\"summarization\", model=\"google/pegasus-cnn_dailymail\")\n",
    "\n",
    "# --------- Abstractive Summarizer Wrappers ---------\n",
    "#def summarize_with_bart(text):\n",
    "#    return bart_summarizer(text, max_length=150, min_length=40, do_sample=False)[0]['summary_text']\n",
    "\n",
    "def summarize_with_t5(text):\n",
    "    return t5_summarizer(text, max_length=150, min_length=40, do_sample=False)[0]['summary_text']\n",
    "\n",
    "def summarize_with_pegasus(text):\n",
    "    return pegasus_summarizer(text, max_length=150, min_length=40, do_sample=False)[0]['summary_text']\n",
    "\n",
    "bart = summarize_with_bart(sample_text)\n",
    "# --------- Load Dataset ---------\n",
    "df = pd.read_csv(\"cnndaily_train.csv\")\n",
    "df = df[['article', 'highlights']].dropna().reset_index(drop=True)\n",
    "\n",
    "# --------- Summarize a Sample ---------\n",
    "sample_text = df.loc[0, 'article']\n",
    "reference_summary = df.loc[0, 'highlights']\n",
    "sample_text = preprocess_text(sample_text)\n",
    "\n",
    "# --------- Summarization Outputs ---------\n",
    "print(\"TF-IDF Summary:\")\n",
    "print(tfidf_summary(sample_text))\n",
    "\n",
    "print(\"\\nNamed Entities:\")\n",
    "print(extract_named_entities(sample_text))\n",
    "\n",
    "print(\"\\nBART Summary:\")\n",
    "print(summarize_with_bart(sample_text))\n",
    "\n",
    "print(\"\\nT5 (Fine-tuned) Summary:\")\n",
    "print(summarize_with_t5(sample_text))\n",
    "\n",
    "print(\"\\nPegasus (Fine-tuned) Summary:\")\n",
    "print(summarize_with_pegasus(sample_text))\n",
    "\n",
    "print(\"\\nReference Summary:\")\n",
    "print(reference_summary)\n"
   ]
  },
  {
   "cell_type": "code",
   "execution_count": 39,
   "metadata": {},
   "outputs": [
    {
     "data": {
      "image/png": "[encoded data removed]",
      "text/plain": [
       "<Figure size 800x500 with 1 Axes>"
      ]
     },
     "metadata": {},
     "output_type": "display_data"
    },
    {
     "data": {
      "image/png": "[encoded data removed]",
      "text/plain": [
       "<Figure size 800x500 with 1 Axes>"
      ]
     },
     "metadata": {},
     "output_type": "display_data"
    }
   ],
   "source": [
    "#generating the rouge scores\n",
    "\n",
    "from rouge_score import rouge_scorer\n",
    "\n",
    "scorer = rouge_scorer.RougeScorer(['rouge1', 'rougeL'], use_stemmer=True)\n",
    "\n",
    "reference = reference_summary  # from your dataset\n",
    "tfidf = tfidf_summary(sample_text)\n",
    "bart = summarize_with_bart(sample_text)\n",
    "t5 = summarize_with_t5(sample_text)\n",
    "pegasus = summarize_with_pegasus(sample_text)\n",
    "\n",
    "# Compute scores\n",
    "scores = {\n",
    "    'TF-IDF': scorer.score(reference, tfidf),\n",
    "    'BART': scorer.score(reference, bart),\n",
    "    'T5': scorer.score(reference, t5),\n",
    "    'Pegasus': scorer.score(reference, pegasus)\n",
    "}\n",
    "\n",
    "rouge_df = pd.DataFrame({\n",
    "    'Model': scores.keys(),\n",
    "    'ROUGE-1': [s['rouge1'].fmeasure for s in scores.values()],\n",
    "    'ROUGE-L': [s['rougeL'].fmeasure for s in scores.values()]\n",
    "})\n",
    "\n",
    "plt.figure(figsize=(8,5))\n",
    "sns.barplot(data=rouge_df, x='Model', y='ROUGE-1')\n",
    "plt.title(\"ROUGE-1 Score Comparison\")\n",
    "plt.show()\n",
    "\n",
    "plt.figure(figsize=(8,5))\n",
    "sns.barplot(data=rouge_df, x='Model', y='ROUGE-L')\n",
    "plt.title(\"ROUGE-L Score Comparison\")\n",
    "plt.show()"
   ]
  }
 ],
 "metadata": {
  "kernelspec": {
   "display_name": "Python 3",
   "language": "python",
   "name": "python3"
  },
  "language_info": {
   "codemirror_mode": {
    "name": "ipython",
    "version": 3
   },
   "file_extension": ".py",
   "mimetype": "text/x-python",
   "name": "python",
   "nbconvert_exporter": "python",
   "pygments_lexer": "ipython3",
   "version": "3.11.7"
  }
 },
 "nbformat": 4,
 "nbformat_minor": 2
}
