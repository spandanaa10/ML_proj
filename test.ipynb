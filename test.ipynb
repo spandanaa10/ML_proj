{
 "cells": [
  {
   "cell_type": "code",
   "execution_count": 8,
   "metadata": {},
   "outputs": [
    {
     "name": "stdout",
     "output_type": "stream",
     "text": [
      "hello\n"
     ]
    }
   ],
   "source": [
    "#test file to commit \n",
    "print(\"hello\")"
   ]
  },
  {
   "cell_type": "code",
   "execution_count": 22,
   "metadata": {},
   "outputs": [
    {
     "name": "stdout",
     "output_type": "stream",
     "text": [
      "First 5 records:\n",
      "                                         id  \\\n",
      "0  0001d1afc246a7964130f43ae940af6bc6c57f01   \n",
      "1  0002095e55fcbd3a2f366d9bf92a95433dc305ef   \n",
      "2  00027e965c8264c35cc1bc55556db388da82b07f   \n",
      "3  0002c17436637c4fe1837c935c04de47adb18e9a   \n",
      "4  0003ad6ef0c37534f80b55b4235108024b407f0b   \n",
      "\n",
      "                                             article  \\\n",
      "0  By . Associated Press . PUBLISHED: . 14:11 EST...   \n",
      "1  (CNN) -- Ralph Mata was an internal affairs li...   \n",
      "2  A drunk driver who killed a young woman in a h...   \n",
      "3  (CNN) -- With a breezy sweep of his pen Presid...   \n",
      "4  Fleetwood are the only team still to have a 10...   \n",
      "\n",
      "                                          highlights  \n",
      "0  Bishop John Folda, of North Dakota, is taking ...  \n",
      "1  Criminal complaint: Cop used his role to help ...  \n",
      "2  Craig Eccleston-Todd, 27, had drunk at least t...  \n",
      "3  Nina dos Santos says Europe must be ready to a...  \n",
      "4  Fleetwood top of League One after 2-0 win at S...  \n"
     ]
    }
   ],
   "source": [
    "import pandas as pd\n",
    "import zipfile\n",
    "import os\n",
    "\n",
    "#cnn daily zip is unzipped and loaded as a dataset\n",
    "zip_filename = \"cnndaily_train.csv.zip\"\n",
    "\n",
    "with zipfile.ZipFile(zip_filename, 'r') as zip_ref:\n",
    "    zip_ref.extractall()\n",
    "\n",
    "csv_filename = \"cnndaily_train.csv\"\n",
    "\n",
    "df = pd.read_csv(csv_filename)\n",
    "\n",
    "# Display first 5 rows\n",
    "print(\"First 5 records:\")\n",
    "print(df.head())\n"
   ]
  },
  {
   "cell_type": "code",
   "execution_count": null,
   "metadata": {},
   "outputs": [
    {
     "name": "stdout",
     "output_type": "stream",
     "text": [
      "First 5 records:\n",
      "                                                   0\n",
      "0  id,title,category,category_code,published_date...\n",
      "1  cs-9308101v1,Dynamic Backtracking,Artificial I...\n",
      "2  tree, existing backtracking methods can someti...\n",
      "3  toward solving a search problem. In this paper...\n",
      "4  backtrack points can be moved deeper in the se...\n"
     ]
    }
   ],
   "source": [
    "import pandas as pd\n",
    "import zipfile\n",
    "import os\n",
    "import csv\n",
    "\n",
    "#already unzipped files so using scientific_papers.csv for the scientific dataset\n",
    "csv_filename = \"scientific_papers.csv\"\n",
    "\n",
    "#load dataset skipping any encoding in the csv file that may cause an issue when loading the dataset\n",
    "df = pd.read_csv(csv_filename, header = None, delimiter=\"\\t\", quoting=csv.QUOTE_NONE, encoding='utf-8')\n",
    "\n",
    "#first 5 rows\n",
    "print(\"First 5 records:\")\n",
    "print(df.head())\n"
   ]
  },
  {
   "cell_type": "code",
   "execution_count": null,
   "metadata": {},
   "outputs": [
    {
     "name": "stdout",
     "output_type": "stream",
     "text": [
      "First 5 records:\n",
      "   Section      Parv                                      Key Event  \\\n",
      "0        1  Adi Parv  Maharaja Shantanu Marries the Celestial Ganga   \n",
      "1        2  Adi Parv                Maharaja Shantanu and Devavrata   \n",
      "2        3  Adi Parv               Bhishma Abducts Three Princesses   \n",
      "3        4  Adi Parv                    Bhishma Battles Parashurama   \n",
      "4        5  Adi Parv    The Birth of Dhritarastra, Pandu and Vidura   \n",
      "\n",
      "                                             Summary  \n",
      "0  According to the historical records of this ea...  \n",
      "1  Many, many years passed, and Maharaja Shantanu...  \n",
      "2  In due course, Maharaja Shantanu's Queen, Saty...  \n",
      "3  After receiving consent from Maharaja Bhishma,...  \n",
      "4  After the last funeral rites were performed fo...  \n"
     ]
    }
   ],
   "source": [
    "import pandas as pd\n",
    "import zipfile\n",
    "import os\n",
    "\n",
    "#already unzipped zip file so loading mahabaratha dataset \n",
    "csv_filename = \"mahabharatha.csv\"\n",
    "\n",
    "df = pd.read_csv(csv_filename)\n",
    "\n",
    "#first 5 rows\n",
    "print(\"First 5 records:\")\n",
    "print(df.head())"
   ]
  }
 ],
 "metadata": {
  "kernelspec": {
   "display_name": "Python 3",
   "language": "python",
   "name": "python3"
  },
  "language_info": {
   "codemirror_mode": {
    "name": "ipython",
    "version": 3
   },
   "file_extension": ".py",
   "mimetype": "text/x-python",
   "name": "python",
   "nbconvert_exporter": "python",
   "pygments_lexer": "ipython3",
   "version": "3.11.7"
  }
 },
 "nbformat": 4,
 "nbformat_minor": 2
}
